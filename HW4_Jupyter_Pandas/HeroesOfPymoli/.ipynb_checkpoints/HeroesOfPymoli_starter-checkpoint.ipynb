{
 "cells": [
  {
   "cell_type": "markdown",
   "metadata": {},
   "source": [
    "### Heroes Of Pymoli Data Analysis\n",
    "* Of the 1163 active players, the vast majority are male (84%). There also exists, a smaller, but notable proportion of female players (14%).\n",
    "\n",
    "* Our peak age demographic falls between 20-24 (44.8%) with secondary groups falling between 15-19 (18.60%) and 25-29 (13.4%).  \n",
    "-----"
   ]
  },
  {
   "cell_type": "markdown",
   "metadata": {},
   "source": [
    "### Note\n",
    "* Instructions have been included for each segment. You do not have to follow them exactly, but they are included to help you think through the steps."
   ]
  },
  {
   "cell_type": "code",
   "execution_count": 1,
   "metadata": {},
   "outputs": [
    {
     "data": {
      "text/html": [
       "<div>\n",
       "<style scoped>\n",
       "    .dataframe tbody tr th:only-of-type {\n",
       "        vertical-align: middle;\n",
       "    }\n",
       "\n",
       "    .dataframe tbody tr th {\n",
       "        vertical-align: top;\n",
       "    }\n",
       "\n",
       "    .dataframe thead th {\n",
       "        text-align: right;\n",
       "    }\n",
       "</style>\n",
       "<table border=\"1\" class=\"dataframe\">\n",
       "  <thead>\n",
       "    <tr style=\"text-align: right;\">\n",
       "      <th></th>\n",
       "      <th>Purchase ID</th>\n",
       "      <th>SN</th>\n",
       "      <th>Age</th>\n",
       "      <th>Gender</th>\n",
       "      <th>Item ID</th>\n",
       "      <th>Item Name</th>\n",
       "      <th>Price</th>\n",
       "    </tr>\n",
       "  </thead>\n",
       "  <tbody>\n",
       "    <tr>\n",
       "      <th>0</th>\n",
       "      <td>0</td>\n",
       "      <td>Lisim78</td>\n",
       "      <td>20</td>\n",
       "      <td>Male</td>\n",
       "      <td>108</td>\n",
       "      <td>Extraction, Quickblade Of Trembling Hands</td>\n",
       "      <td>3.53</td>\n",
       "    </tr>\n",
       "    <tr>\n",
       "      <th>1</th>\n",
       "      <td>1</td>\n",
       "      <td>Lisovynya38</td>\n",
       "      <td>40</td>\n",
       "      <td>Male</td>\n",
       "      <td>143</td>\n",
       "      <td>Frenzied Scimitar</td>\n",
       "      <td>1.56</td>\n",
       "    </tr>\n",
       "    <tr>\n",
       "      <th>2</th>\n",
       "      <td>2</td>\n",
       "      <td>Ithergue48</td>\n",
       "      <td>24</td>\n",
       "      <td>Male</td>\n",
       "      <td>92</td>\n",
       "      <td>Final Critic</td>\n",
       "      <td>4.88</td>\n",
       "    </tr>\n",
       "    <tr>\n",
       "      <th>3</th>\n",
       "      <td>3</td>\n",
       "      <td>Chamassasya86</td>\n",
       "      <td>24</td>\n",
       "      <td>Male</td>\n",
       "      <td>100</td>\n",
       "      <td>Blindscythe</td>\n",
       "      <td>3.27</td>\n",
       "    </tr>\n",
       "    <tr>\n",
       "      <th>4</th>\n",
       "      <td>4</td>\n",
       "      <td>Iskosia90</td>\n",
       "      <td>23</td>\n",
       "      <td>Male</td>\n",
       "      <td>131</td>\n",
       "      <td>Fury</td>\n",
       "      <td>1.44</td>\n",
       "    </tr>\n",
       "  </tbody>\n",
       "</table>\n",
       "</div>"
      ],
      "text/plain": [
       "   Purchase ID             SN  Age Gender  Item ID  \\\n",
       "0            0        Lisim78   20   Male      108   \n",
       "1            1    Lisovynya38   40   Male      143   \n",
       "2            2     Ithergue48   24   Male       92   \n",
       "3            3  Chamassasya86   24   Male      100   \n",
       "4            4      Iskosia90   23   Male      131   \n",
       "\n",
       "                                   Item Name  Price  \n",
       "0  Extraction, Quickblade Of Trembling Hands   3.53  \n",
       "1                          Frenzied Scimitar   1.56  \n",
       "2                               Final Critic   4.88  \n",
       "3                                Blindscythe   3.27  \n",
       "4                                       Fury   1.44  "
      ]
     },
     "execution_count": 1,
     "metadata": {},
     "output_type": "execute_result"
    }
   ],
   "source": [
    "# Dependencies and Setup\n",
    "import pandas as pd\n",
    "import numpy as np\n",
    "\n",
    "# File to Load (Remember to Change These)\n",
    "# Import the Hereos of Pymoli purchase data from csv\n",
    "pymolifile = \"Resources/purchase_data.csv\"\n",
    "\n",
    "# Read Purchasing File and store into Pandas data frame\n",
    "purchase_df = pd.read_csv(pymolifile)\n",
    "\n",
    "purchase_df.head()"
   ]
  },
  {
   "cell_type": "markdown",
   "metadata": {},
   "source": [
    "## Player Count"
   ]
  },
  {
   "cell_type": "markdown",
   "metadata": {},
   "source": [
    "* Display the total number of players\n"
   ]
  },
  {
   "cell_type": "code",
   "execution_count": 2,
   "metadata": {},
   "outputs": [
    {
     "data": {
      "text/plain": [
       "576"
      ]
     },
     "execution_count": 2,
     "metadata": {},
     "output_type": "execute_result"
    }
   ],
   "source": [
    "#Use the SN to count the total number of players\n",
    "total_players = len(purchase_df[\"SN\"].unique())\n",
    "total_players\n",
    "\n"
   ]
  },
  {
   "cell_type": "markdown",
   "metadata": {},
   "source": [
    "## Purchasing Analysis (Total)"
   ]
  },
  {
   "cell_type": "markdown",
   "metadata": {},
   "source": [
    "* Run basic calculations to obtain number of unique items, average price, total number of puruchases, total revnue.\n",
    "\n",
    "\n",
    "* Create a summary data frame to hold the results\n",
    "\n",
    "\n",
    "* Optional: give the displayed data cleaner formatting\n",
    "\n",
    "\n",
    "* Display the summary data frame\n"
   ]
  },
  {
   "cell_type": "code",
   "execution_count": 3,
   "metadata": {
    "scrolled": true
   },
   "outputs": [
    {
     "data": {
      "text/html": [
       "<style  type=\"text/css\" >\n",
       "</style>  \n",
       "<table id=\"T_4f5447c6_0291_11e9_af77_bec061a457d2\" > \n",
       "<thead>    <tr> \n",
       "        <th class=\"blank level0\" ></th> \n",
       "        <th class=\"col_heading level0 col0\" >Number of Unique Items</th> \n",
       "        <th class=\"col_heading level0 col1\" >Average Price</th> \n",
       "        <th class=\"col_heading level0 col2\" >Number of Purchases</th> \n",
       "        <th class=\"col_heading level0 col3\" >Total Revenue</th> \n",
       "    </tr></thead> \n",
       "<tbody>    <tr> \n",
       "        <th id=\"T_4f5447c6_0291_11e9_af77_bec061a457d2level0_row0\" class=\"row_heading level0 row0\" >0</th> \n",
       "        <td id=\"T_4f5447c6_0291_11e9_af77_bec061a457d2row0_col0\" class=\"data row0 col0\" >183</td> \n",
       "        <td id=\"T_4f5447c6_0291_11e9_af77_bec061a457d2row0_col1\" class=\"data row0 col1\" >$3.05</td> \n",
       "        <td id=\"T_4f5447c6_0291_11e9_af77_bec061a457d2row0_col2\" class=\"data row0 col2\" >780</td> \n",
       "        <td id=\"T_4f5447c6_0291_11e9_af77_bec061a457d2row0_col3\" class=\"data row0 col3\" >$2,379.77</td> \n",
       "    </tr></tbody> \n",
       "</table> "
      ],
      "text/plain": [
       "<pandas.io.formats.style.Styler at 0x171dead0208>"
      ]
     },
     "execution_count": 3,
     "metadata": {},
     "output_type": "execute_result"
    }
   ],
   "source": [
    "\n",
    "# unique_items = purchase_df[\"Item ID\"].unique() - this appended all the unique items ; not right line of code\n",
    "unique_items = len(purchase_df[\"Item ID\"].unique())\n",
    "# using the 'len' helped determine the length/count of unique items in the list\n",
    "\n",
    "\n",
    "average_price = purchase_df[\"Price\"].mean()\n",
    "total_purchases = purchase_df[\"Purchase ID\"].count()\n",
    "total_revenue = purchase_df[\"Price\"].sum()\n",
    "\n",
    "# Create data frame summary of the above values you just obtained\n",
    "summary_df = pd.DataFrame({\"Number of Unique Items\":[unique_items],\n",
    "                           \"Average Price\":[average_price], \n",
    "                           \"Number of Purchases\": [total_purchases], \n",
    "                           \"Total Revenue\": [total_revenue]})\n",
    "\n",
    "# Format the new data frame analysis \n",
    "summary_df.style.format({'Average Price':\"${:,.2f}\",\n",
    "                         'Total Revenue': '${:,.2f}'})\n"
   ]
  },
  {
   "cell_type": "markdown",
   "metadata": {},
   "source": [
    "## Gender Demographics"
   ]
  },
  {
   "cell_type": "markdown",
   "metadata": {},
   "source": [
    "* Percentage and Count of Male Players\n",
    "\n",
    "\n",
    "* Percentage and Count of Female Players\n",
    "\n",
    "\n",
    "* Percentage and Count of Other / Non-Disclosed\n",
    "\n",
    "\n"
   ]
  },
  {
   "cell_type": "code",
   "execution_count": 4,
   "metadata": {},
   "outputs": [
    {
     "data": {
      "text/html": [
       "<style  type=\"text/css\" >\n",
       "</style>  \n",
       "<table id=\"T_4f6f7564_0291_11e9_a37e_bec061a457d2\" > \n",
       "<thead>    <tr> \n",
       "        <th class=\"blank level0\" ></th> \n",
       "        <th class=\"col_heading level0 col0\" >Total Count</th> \n",
       "        <th class=\"col_heading level0 col1\" >Percentage of Players</th> \n",
       "    </tr></thead> \n",
       "<tbody>    <tr> \n",
       "        <th id=\"T_4f6f7564_0291_11e9_a37e_bec061a457d2level0_row0\" class=\"row_heading level0 row0\" >Other / Non-Disclosed</th> \n",
       "        <td id=\"T_4f6f7564_0291_11e9_a37e_bec061a457d2row0_col0\" class=\"data row0 col0\" >11</td> \n",
       "        <td id=\"T_4f6f7564_0291_11e9_a37e_bec061a457d2row0_col1\" class=\"data row0 col1\" >1.91%</td> \n",
       "    </tr>    <tr> \n",
       "        <th id=\"T_4f6f7564_0291_11e9_a37e_bec061a457d2level0_row1\" class=\"row_heading level0 row1\" >Female</th> \n",
       "        <td id=\"T_4f6f7564_0291_11e9_a37e_bec061a457d2row1_col0\" class=\"data row1 col0\" >81</td> \n",
       "        <td id=\"T_4f6f7564_0291_11e9_a37e_bec061a457d2row1_col1\" class=\"data row1 col1\" >14.06%</td> \n",
       "    </tr>    <tr> \n",
       "        <th id=\"T_4f6f7564_0291_11e9_a37e_bec061a457d2level0_row2\" class=\"row_heading level0 row2\" >Male</th> \n",
       "        <td id=\"T_4f6f7564_0291_11e9_a37e_bec061a457d2row2_col0\" class=\"data row2 col0\" >484</td> \n",
       "        <td id=\"T_4f6f7564_0291_11e9_a37e_bec061a457d2row2_col1\" class=\"data row2 col1\" >84.03%</td> \n",
       "    </tr></tbody> \n",
       "</table> "
      ],
      "text/plain": [
       "<pandas.io.formats.style.Styler at 0x171dfbb6b70>"
      ]
     },
     "execution_count": 4,
     "metadata": {},
     "output_type": "execute_result"
    }
   ],
   "source": [
    "# To calculate percentage xcoutn/totalcount * 100\n",
    "# Need to calculate the total number of male/female/other genders \n",
    "# and then get the percentage of each\n",
    "\n",
    "# First group data set by genders\n",
    "grouped_genders_df = purchase_df.groupby([\"Gender\"])\n",
    "\n",
    "#view the grouped genders with code below\n",
    "#grouped_genders_df.head()\n",
    "\n",
    "# Next count the total of all the unique genders grouped\n",
    "# stackoverflow suggested 'nunique'\n",
    "total_grouped_genders = grouped_genders_df.nunique()[\"SN\"]\n",
    "total_grouped_genders\n",
    "\n",
    "percentage_of_players = total_grouped_genders / total_players * 100\n",
    "\n",
    "percentage_of_players\n",
    "\n",
    "# Create data frame summary of the above values you just discovered\n",
    "demographics_df = pd.DataFrame({\"Total Count\":total_grouped_genders,\n",
    "                           \"Percentage of Players\":percentage_of_players, \n",
    "                          })\n",
    "\n",
    "demographics_df.index.name = None\n",
    "\n",
    "demographics_df\n",
    "\n",
    "# Format the percentage \n",
    "demographics_df.sort_values([\"Total Count\"]).style.format({\"Percentage of Players\":\"{:.2f}%\"})\n",
    "\n",
    "\n"
   ]
  },
  {
   "cell_type": "markdown",
   "metadata": {},
   "source": [
    "\n",
    "## Purchasing Analysis (Gender)"
   ]
  },
  {
   "cell_type": "markdown",
   "metadata": {},
   "source": [
    "* Run basic calculations to obtain purchase count, avg. purchase price, avg. purchase total per person etc. by gender\n",
    "\n",
    "\n",
    "\n",
    "\n",
    "* Create a summary data frame to hold the results\n",
    "\n",
    "\n",
    "* Optional: give the displayed data cleaner formatting\n",
    "\n",
    "\n",
    "* Display the summary data frame"
   ]
  },
  {
   "cell_type": "code",
   "execution_count": 5,
   "metadata": {},
   "outputs": [
    {
     "data": {
      "text/html": [
       "<style  type=\"text/css\" >\n",
       "</style>  \n",
       "<table id=\"T_4f82f01e_0291_11e9_9772_bec061a457d2\" > \n",
       "<thead>    <tr> \n",
       "        <th class=\"blank level0\" ></th> \n",
       "        <th class=\"col_heading level0 col0\" >Purchase Count</th> \n",
       "        <th class=\"col_heading level0 col1\" >Avg Price</th> \n",
       "        <th class=\"col_heading level0 col2\" >Total Purchase</th> \n",
       "        <th class=\"col_heading level0 col3\" >Avg Total Purchase/Person</th> \n",
       "    </tr></thead> \n",
       "<tbody>    <tr> \n",
       "        <th id=\"T_4f82f01e_0291_11e9_9772_bec061a457d2level0_row0\" class=\"row_heading level0 row0\" >Other / Non-Disclosed</th> \n",
       "        <td id=\"T_4f82f01e_0291_11e9_9772_bec061a457d2row0_col0\" class=\"data row0 col0\" >15</td> \n",
       "        <td id=\"T_4f82f01e_0291_11e9_9772_bec061a457d2row0_col1\" class=\"data row0 col1\" >$3.35</td> \n",
       "        <td id=\"T_4f82f01e_0291_11e9_9772_bec061a457d2row0_col2\" class=\"data row0 col2\" >$50.19</td> \n",
       "        <td id=\"T_4f82f01e_0291_11e9_9772_bec061a457d2row0_col3\" class=\"data row0 col3\" >$4.56</td> \n",
       "    </tr>    <tr> \n",
       "        <th id=\"T_4f82f01e_0291_11e9_9772_bec061a457d2level0_row1\" class=\"row_heading level0 row1\" >Female</th> \n",
       "        <td id=\"T_4f82f01e_0291_11e9_9772_bec061a457d2row1_col0\" class=\"data row1 col0\" >113</td> \n",
       "        <td id=\"T_4f82f01e_0291_11e9_9772_bec061a457d2row1_col1\" class=\"data row1 col1\" >$3.20</td> \n",
       "        <td id=\"T_4f82f01e_0291_11e9_9772_bec061a457d2row1_col2\" class=\"data row1 col2\" >$361.94</td> \n",
       "        <td id=\"T_4f82f01e_0291_11e9_9772_bec061a457d2row1_col3\" class=\"data row1 col3\" >$4.47</td> \n",
       "    </tr>    <tr> \n",
       "        <th id=\"T_4f82f01e_0291_11e9_9772_bec061a457d2level0_row2\" class=\"row_heading level0 row2\" >Male</th> \n",
       "        <td id=\"T_4f82f01e_0291_11e9_9772_bec061a457d2row2_col0\" class=\"data row2 col0\" >652</td> \n",
       "        <td id=\"T_4f82f01e_0291_11e9_9772_bec061a457d2row2_col1\" class=\"data row2 col1\" >$3.02</td> \n",
       "        <td id=\"T_4f82f01e_0291_11e9_9772_bec061a457d2row2_col2\" class=\"data row2 col2\" >$1967.64</td> \n",
       "        <td id=\"T_4f82f01e_0291_11e9_9772_bec061a457d2row2_col3\" class=\"data row2 col3\" >$4.07</td> \n",
       "    </tr></tbody> \n",
       "</table> "
      ],
      "text/plain": [
       "<pandas.io.formats.style.Styler at 0x171dfbb7ac8>"
      ]
     },
     "execution_count": 5,
     "metadata": {},
     "output_type": "execute_result"
    }
   ],
   "source": [
    "purchase_count = grouped_genders_df[\"Purchase ID\"].count()\n",
    "avg_price = grouped_genders_df[\"Price\"].mean() \n",
    "total_purchase = grouped_genders_df[\"Price\"].sum() \n",
    "\n",
    "#Calculate AVG Purchase total per person by gender (that's the total unique genders)\n",
    "\n",
    "avgtotalpurchase_person = total_purchase/total_grouped_genders\n",
    "\n",
    "purchase_analysis_df = pd.DataFrame({\"Purchase Count\":purchase_count,\n",
    "                                  \"Avg Price\":avg_price,\n",
    "                                  \"Total Purchase\": total_purchase,\n",
    "                                     \"Avg Total Purchase/Person\": avgtotalpurchase_person\n",
    "                                 })\n",
    "\n",
    "\n",
    "# Format the new data frame analysis  \n",
    "purchase_analysis_df.sort_values([\"Purchase Count\"]).style.format({\"Avg Price\":\"${:.2f}\", \"Total Purchase\":\"${:.2f}\", \"Avg Total Purchase/Person\":\"${:.2f}\"})\n",
    "\n"
   ]
  },
  {
   "cell_type": "markdown",
   "metadata": {},
   "source": [
    "## Age Demographics"
   ]
  },
  {
   "cell_type": "markdown",
   "metadata": {},
   "source": [
    "* Establish bins for ages\n",
    "\n",
    "\n",
    "* Categorize the existing players using the age bins. Hint: use pd.cut()\n",
    "\n",
    "\n",
    "* Calculate the numbers and percentages by age group\n",
    "\n",
    "\n",
    "* Create a summary data frame to hold the results\n",
    "\n",
    "\n",
    "* Optional: round the percentage column to two decimal points\n",
    "\n",
    "\n",
    "* Display Age Demographics Table\n"
   ]
  },
  {
   "cell_type": "code",
   "execution_count": 6,
   "metadata": {},
   "outputs": [
    {
     "data": {
      "text/html": [
       "<style  type=\"text/css\" >\n",
       "</style>  \n",
       "<table id=\"T_4f8d9736_0291_11e9_9cb7_bec061a457d2\" > \n",
       "<thead>    <tr> \n",
       "        <th class=\"blank level0\" ></th> \n",
       "        <th class=\"col_heading level0 col0\" >Total Count</th> \n",
       "        <th class=\"col_heading level0 col1\" >Percentage By Age</th> \n",
       "    </tr></thead> \n",
       "<tbody>    <tr> \n",
       "        <th id=\"T_4f8d9736_0291_11e9_9cb7_bec061a457d2level0_row0\" class=\"row_heading level0 row0\" ><10</th> \n",
       "        <td id=\"T_4f8d9736_0291_11e9_9cb7_bec061a457d2row0_col0\" class=\"data row0 col0\" >24</td> \n",
       "        <td id=\"T_4f8d9736_0291_11e9_9cb7_bec061a457d2row0_col1\" class=\"data row0 col1\" >4.17%</td> \n",
       "    </tr>    <tr> \n",
       "        <th id=\"T_4f8d9736_0291_11e9_9cb7_bec061a457d2level0_row1\" class=\"row_heading level0 row1\" >15-20</th> \n",
       "        <td id=\"T_4f8d9736_0291_11e9_9cb7_bec061a457d2row1_col0\" class=\"data row1 col0\" >41</td> \n",
       "        <td id=\"T_4f8d9736_0291_11e9_9cb7_bec061a457d2row1_col1\" class=\"data row1 col1\" >7.12%</td> \n",
       "    </tr>    <tr> \n",
       "        <th id=\"T_4f8d9736_0291_11e9_9cb7_bec061a457d2level0_row2\" class=\"row_heading level0 row2\" >20-25</th> \n",
       "        <td id=\"T_4f8d9736_0291_11e9_9cb7_bec061a457d2row2_col0\" class=\"data row2 col0\" >150</td> \n",
       "        <td id=\"T_4f8d9736_0291_11e9_9cb7_bec061a457d2row2_col1\" class=\"data row2 col1\" >26.04%</td> \n",
       "    </tr>    <tr> \n",
       "        <th id=\"T_4f8d9736_0291_11e9_9cb7_bec061a457d2level0_row3\" class=\"row_heading level0 row3\" >25-30</th> \n",
       "        <td id=\"T_4f8d9736_0291_11e9_9cb7_bec061a457d2row3_col0\" class=\"data row3 col0\" >232</td> \n",
       "        <td id=\"T_4f8d9736_0291_11e9_9cb7_bec061a457d2row3_col1\" class=\"data row3 col1\" >40.28%</td> \n",
       "    </tr>    <tr> \n",
       "        <th id=\"T_4f8d9736_0291_11e9_9cb7_bec061a457d2level0_row4\" class=\"row_heading level0 row4\" >30-35</th> \n",
       "        <td id=\"T_4f8d9736_0291_11e9_9cb7_bec061a457d2row4_col0\" class=\"data row4 col0\" >59</td> \n",
       "        <td id=\"T_4f8d9736_0291_11e9_9cb7_bec061a457d2row4_col1\" class=\"data row4 col1\" >10.24%</td> \n",
       "    </tr>    <tr> \n",
       "        <th id=\"T_4f8d9736_0291_11e9_9cb7_bec061a457d2level0_row5\" class=\"row_heading level0 row5\" >35-40</th> \n",
       "        <td id=\"T_4f8d9736_0291_11e9_9cb7_bec061a457d2row5_col0\" class=\"data row5 col0\" >37</td> \n",
       "        <td id=\"T_4f8d9736_0291_11e9_9cb7_bec061a457d2row5_col1\" class=\"data row5 col1\" >6.42%</td> \n",
       "    </tr>    <tr> \n",
       "        <th id=\"T_4f8d9736_0291_11e9_9cb7_bec061a457d2level0_row6\" class=\"row_heading level0 row6\" >40-45</th> \n",
       "        <td id=\"T_4f8d9736_0291_11e9_9cb7_bec061a457d2row6_col0\" class=\"data row6 col0\" >26</td> \n",
       "        <td id=\"T_4f8d9736_0291_11e9_9cb7_bec061a457d2row6_col1\" class=\"data row6 col1\" >4.51%</td> \n",
       "    </tr>    <tr> \n",
       "        <th id=\"T_4f8d9736_0291_11e9_9cb7_bec061a457d2level0_row7\" class=\"row_heading level0 row7\" >45-50</th> \n",
       "        <td id=\"T_4f8d9736_0291_11e9_9cb7_bec061a457d2row7_col0\" class=\"data row7 col0\" >7</td> \n",
       "        <td id=\"T_4f8d9736_0291_11e9_9cb7_bec061a457d2row7_col1\" class=\"data row7 col1\" >1.22%</td> \n",
       "    </tr>    <tr> \n",
       "        <th id=\"T_4f8d9736_0291_11e9_9cb7_bec061a457d2level0_row8\" class=\"row_heading level0 row8\" >50+</th> \n",
       "        <td id=\"T_4f8d9736_0291_11e9_9cb7_bec061a457d2row8_col0\" class=\"data row8 col0\" >0</td> \n",
       "        <td id=\"T_4f8d9736_0291_11e9_9cb7_bec061a457d2row8_col1\" class=\"data row8 col1\" >0.00%</td> \n",
       "    </tr></tbody> \n",
       "</table> "
      ],
      "text/plain": [
       "<pandas.io.formats.style.Styler at 0x171dfad36d8>"
      ]
     },
     "execution_count": 6,
     "metadata": {},
     "output_type": "execute_result"
    }
   ],
   "source": [
    "# Establish bins for ages\n",
    "age_bins = [0, 10, 15, 20, 25, 30, 35, 40, 45, 50]\n",
    "group_names = [\"<10\", \"15-20\", \"20-25\", \"25-30\", \"30-35\", \"35-40\", \"40-45\", \"45-50\", \"50+\"]\n",
    "\n",
    "# Sort the dataframe based on above information by Age Group - categorize existing players\n",
    "#age_demographics_df[\"Age Group\"] = pd.cut(purchase_df[\"Age\"],age_bins, labels=group_names)\n",
    "# the line above caused errors, not sure why it's not letting me create  a new variable assignment\n",
    "\n",
    "purchase_df[\"Age Group\"] = pd.cut(purchase_df[\"Age\"],age_bins, labels=group_names)\n",
    "purchase_df\n",
    "\n",
    "grouped_age = purchase_df.groupby(\"Age Group\")\n",
    "\n",
    "total_age_count = grouped_age.nunique()[\"SN\"]\n",
    "\n",
    "percent_by_age = total_age_count/total_players * 100\n",
    "\n",
    "age_demographics_df = pd.DataFrame({\"Total Count\": total_age_count, \"Percentage By Age\": percent_by_age})\n",
    "\n",
    "age_demographics_df.index.name = None\n",
    "                             \n",
    "# Format the new data frame analysis  \n",
    "age_demographics_df.style.format({\"Percentage By Age\":\"{:.2f}%\"})\n",
    "\n"
   ]
  },
  {
   "cell_type": "markdown",
   "metadata": {},
   "source": [
    "## Purchasing Analysis (Age)"
   ]
  },
  {
   "cell_type": "markdown",
   "metadata": {},
   "source": [
    "* Bin the purchase_data data frame by age\n",
    "\n",
    "\n",
    "* Run basic calculations to obtain purchase count, avg. purchase price, avg. purchase total per person etc. in the table below\n",
    "\n",
    "\n",
    "* Create a summary data frame to hold the results\n",
    "\n",
    "\n",
    "* Optional: give the displayed data cleaner formatting\n",
    "\n",
    "\n",
    "* Display the summary data frame"
   ]
  },
  {
   "cell_type": "code",
   "execution_count": 7,
   "metadata": {},
   "outputs": [
    {
     "data": {
      "text/html": [
       "<style  type=\"text/css\" >\n",
       "</style>  \n",
       "<table id=\"T_4fae7624_0291_11e9_9a40_bec061a457d2\" > \n",
       "<thead>    <tr> \n",
       "        <th class=\"blank level0\" ></th> \n",
       "        <th class=\"col_heading level0 col0\" >Purchase Count</th> \n",
       "        <th class=\"col_heading level0 col1\" >Average Purchase Price</th> \n",
       "        <th class=\"col_heading level0 col2\" >Total Purchase Value</th> \n",
       "        <th class=\"col_heading level0 col3\" >Average Purchase Total per Person</th> \n",
       "    </tr></thead> \n",
       "<tbody>    <tr> \n",
       "        <th id=\"T_4fae7624_0291_11e9_9a40_bec061a457d2level0_row0\" class=\"row_heading level0 row0\" ><10</th> \n",
       "        <td id=\"T_4fae7624_0291_11e9_9a40_bec061a457d2row0_col0\" class=\"data row0 col0\" >32</td> \n",
       "        <td id=\"T_4fae7624_0291_11e9_9a40_bec061a457d2row0_col1\" class=\"data row0 col1\" >$3.40</td> \n",
       "        <td id=\"T_4fae7624_0291_11e9_9a40_bec061a457d2row0_col2\" class=\"data row0 col2\" >$108.96</td> \n",
       "        <td id=\"T_4fae7624_0291_11e9_9a40_bec061a457d2row0_col3\" class=\"data row0 col3\" >$4.54</td> \n",
       "    </tr>    <tr> \n",
       "        <th id=\"T_4fae7624_0291_11e9_9a40_bec061a457d2level0_row1\" class=\"row_heading level0 row1\" >15-20</th> \n",
       "        <td id=\"T_4fae7624_0291_11e9_9a40_bec061a457d2row1_col0\" class=\"data row1 col0\" >54</td> \n",
       "        <td id=\"T_4fae7624_0291_11e9_9a40_bec061a457d2row1_col1\" class=\"data row1 col1\" >$2.90</td> \n",
       "        <td id=\"T_4fae7624_0291_11e9_9a40_bec061a457d2row1_col2\" class=\"data row1 col2\" >$156.60</td> \n",
       "        <td id=\"T_4fae7624_0291_11e9_9a40_bec061a457d2row1_col3\" class=\"data row1 col3\" >$3.82</td> \n",
       "    </tr>    <tr> \n",
       "        <th id=\"T_4fae7624_0291_11e9_9a40_bec061a457d2level0_row2\" class=\"row_heading level0 row2\" >20-25</th> \n",
       "        <td id=\"T_4fae7624_0291_11e9_9a40_bec061a457d2row2_col0\" class=\"data row2 col0\" >200</td> \n",
       "        <td id=\"T_4fae7624_0291_11e9_9a40_bec061a457d2row2_col1\" class=\"data row2 col1\" >$3.11</td> \n",
       "        <td id=\"T_4fae7624_0291_11e9_9a40_bec061a457d2row2_col2\" class=\"data row2 col2\" >$621.56</td> \n",
       "        <td id=\"T_4fae7624_0291_11e9_9a40_bec061a457d2row2_col3\" class=\"data row2 col3\" >$4.14</td> \n",
       "    </tr>    <tr> \n",
       "        <th id=\"T_4fae7624_0291_11e9_9a40_bec061a457d2level0_row3\" class=\"row_heading level0 row3\" >25-30</th> \n",
       "        <td id=\"T_4fae7624_0291_11e9_9a40_bec061a457d2row3_col0\" class=\"data row3 col0\" >325</td> \n",
       "        <td id=\"T_4fae7624_0291_11e9_9a40_bec061a457d2row3_col1\" class=\"data row3 col1\" >$3.02</td> \n",
       "        <td id=\"T_4fae7624_0291_11e9_9a40_bec061a457d2row3_col2\" class=\"data row3 col2\" >$981.64</td> \n",
       "        <td id=\"T_4fae7624_0291_11e9_9a40_bec061a457d2row3_col3\" class=\"data row3 col3\" >$4.23</td> \n",
       "    </tr>    <tr> \n",
       "        <th id=\"T_4fae7624_0291_11e9_9a40_bec061a457d2level0_row4\" class=\"row_heading level0 row4\" >30-35</th> \n",
       "        <td id=\"T_4fae7624_0291_11e9_9a40_bec061a457d2row4_col0\" class=\"data row4 col0\" >77</td> \n",
       "        <td id=\"T_4fae7624_0291_11e9_9a40_bec061a457d2row4_col1\" class=\"data row4 col1\" >$2.88</td> \n",
       "        <td id=\"T_4fae7624_0291_11e9_9a40_bec061a457d2row4_col2\" class=\"data row4 col2\" >$221.42</td> \n",
       "        <td id=\"T_4fae7624_0291_11e9_9a40_bec061a457d2row4_col3\" class=\"data row4 col3\" >$3.75</td> \n",
       "    </tr>    <tr> \n",
       "        <th id=\"T_4fae7624_0291_11e9_9a40_bec061a457d2level0_row5\" class=\"row_heading level0 row5\" >35-40</th> \n",
       "        <td id=\"T_4fae7624_0291_11e9_9a40_bec061a457d2row5_col0\" class=\"data row5 col0\" >52</td> \n",
       "        <td id=\"T_4fae7624_0291_11e9_9a40_bec061a457d2row5_col1\" class=\"data row5 col1\" >$2.99</td> \n",
       "        <td id=\"T_4fae7624_0291_11e9_9a40_bec061a457d2row5_col2\" class=\"data row5 col2\" >$155.71</td> \n",
       "        <td id=\"T_4fae7624_0291_11e9_9a40_bec061a457d2row5_col3\" class=\"data row5 col3\" >$4.21</td> \n",
       "    </tr>    <tr> \n",
       "        <th id=\"T_4fae7624_0291_11e9_9a40_bec061a457d2level0_row6\" class=\"row_heading level0 row6\" >40-45</th> \n",
       "        <td id=\"T_4fae7624_0291_11e9_9a40_bec061a457d2row6_col0\" class=\"data row6 col0\" >33</td> \n",
       "        <td id=\"T_4fae7624_0291_11e9_9a40_bec061a457d2row6_col1\" class=\"data row6 col1\" >$3.40</td> \n",
       "        <td id=\"T_4fae7624_0291_11e9_9a40_bec061a457d2row6_col2\" class=\"data row6 col2\" >$112.35</td> \n",
       "        <td id=\"T_4fae7624_0291_11e9_9a40_bec061a457d2row6_col3\" class=\"data row6 col3\" >$4.32</td> \n",
       "    </tr>    <tr> \n",
       "        <th id=\"T_4fae7624_0291_11e9_9a40_bec061a457d2level0_row7\" class=\"row_heading level0 row7\" >45-50</th> \n",
       "        <td id=\"T_4fae7624_0291_11e9_9a40_bec061a457d2row7_col0\" class=\"data row7 col0\" >7</td> \n",
       "        <td id=\"T_4fae7624_0291_11e9_9a40_bec061a457d2row7_col1\" class=\"data row7 col1\" >$3.08</td> \n",
       "        <td id=\"T_4fae7624_0291_11e9_9a40_bec061a457d2row7_col2\" class=\"data row7 col2\" >$21.53</td> \n",
       "        <td id=\"T_4fae7624_0291_11e9_9a40_bec061a457d2row7_col3\" class=\"data row7 col3\" >$3.08</td> \n",
       "    </tr>    <tr> \n",
       "        <th id=\"T_4fae7624_0291_11e9_9a40_bec061a457d2level0_row8\" class=\"row_heading level0 row8\" >50+</th> \n",
       "        <td id=\"T_4fae7624_0291_11e9_9a40_bec061a457d2row8_col0\" class=\"data row8 col0\" >0</td> \n",
       "        <td id=\"T_4fae7624_0291_11e9_9a40_bec061a457d2row8_col1\" class=\"data row8 col1\" >$nan</td> \n",
       "        <td id=\"T_4fae7624_0291_11e9_9a40_bec061a457d2row8_col2\" class=\"data row8 col2\" >$0.00</td> \n",
       "        <td id=\"T_4fae7624_0291_11e9_9a40_bec061a457d2row8_col3\" class=\"data row8 col3\" >$nan</td> \n",
       "    </tr></tbody> \n",
       "</table> "
      ],
      "text/plain": [
       "<pandas.io.formats.style.Styler at 0x171dfad3198>"
      ]
     },
     "execution_count": 7,
     "metadata": {},
     "output_type": "execute_result"
    }
   ],
   "source": [
    "# I think I can keep the above bins that I created for this section \n",
    "# without redefining them\n",
    "\n",
    "purchase_by_age_count = grouped_age[\"Purchase ID\"].count()\n",
    "\n",
    "avgprice_by_age = grouped_age[\"Price\"].mean()\n",
    "\n",
    "totalpurchase_by_age = grouped_age[\"Price\"].sum()\n",
    "\n",
    "avgpurchase_perperson_byage = totalpurchase_by_age/total_age_count\n",
    "\n",
    "\n",
    "# Sumamry of Purchasing Analysis Data Frame\n",
    "age_demographics = pd.DataFrame({\"Purchase Count\": purchase_by_age_count,\n",
    "                                 \"Average Purchase Price\": avgprice_by_age,\n",
    "                                 \"Total Purchase Value\":totalpurchase_by_age,\n",
    "                                 \"Average Purchase Total per Person\": avgpurchase_perperson_byage})\n",
    "\n",
    "age_demographics.index.name = None\n",
    "\n",
    "# Format with currency style\n",
    "age_demographics.style.format({\"Average Purchase Price\":\"${:,.2f}\",\n",
    "                               \"Total Purchase Value\":\"${:,.2f}\",\n",
    "                               \"Average Purchase Total per Person\":\"${:,.2f}\"})\n"
   ]
  },
  {
   "cell_type": "markdown",
   "metadata": {},
   "source": [
    "## Top Spenders"
   ]
  },
  {
   "cell_type": "markdown",
   "metadata": {},
   "source": [
    "* Run basic calculations to obtain the results in the table below\n",
    "* Identify the the top 5 spenders in the game by total purchase value, then list (in a table):\n",
    "* SN, Purchase Count, Average Purchase Price, Total Purchase Value\n",
    "\n",
    "\n",
    "* Create a summary data frame to hold the results\n",
    "\n",
    "\n",
    "* Sort the total purchase value column in descending order\n",
    "\n",
    "\n",
    "* Optional: give the displayed data cleaner formatting\n",
    "\n",
    "\n",
    "* Display a preview of the summary data frame\n",
    "\n"
   ]
  },
  {
   "cell_type": "code",
   "execution_count": 8,
   "metadata": {},
   "outputs": [
    {
     "data": {
      "text/html": [
       "<style  type=\"text/css\" >\n",
       "</style>  \n",
       "<table id=\"T_4fc80740_0291_11e9_b5f1_bec061a457d2\" > \n",
       "<thead>    <tr> \n",
       "        <th class=\"blank level0\" ></th> \n",
       "        <th class=\"col_heading level0 col0\" >Purchase Count</th> \n",
       "        <th class=\"col_heading level0 col1\" >Average Purchase Price</th> \n",
       "        <th class=\"col_heading level0 col2\" >Total Purchase Value</th> \n",
       "    </tr></thead> \n",
       "<tbody>    <tr> \n",
       "        <th id=\"T_4fc80740_0291_11e9_b5f1_bec061a457d2level0_row0\" class=\"row_heading level0 row0\" >Lisosia93</th> \n",
       "        <td id=\"T_4fc80740_0291_11e9_b5f1_bec061a457d2row0_col0\" class=\"data row0 col0\" >5</td> \n",
       "        <td id=\"T_4fc80740_0291_11e9_b5f1_bec061a457d2row0_col1\" class=\"data row0 col1\" >$3.79</td> \n",
       "        <td id=\"T_4fc80740_0291_11e9_b5f1_bec061a457d2row0_col2\" class=\"data row0 col2\" >$18.96</td> \n",
       "    </tr>    <tr> \n",
       "        <th id=\"T_4fc80740_0291_11e9_b5f1_bec061a457d2level0_row1\" class=\"row_heading level0 row1\" >Idastidru52</th> \n",
       "        <td id=\"T_4fc80740_0291_11e9_b5f1_bec061a457d2row1_col0\" class=\"data row1 col0\" >4</td> \n",
       "        <td id=\"T_4fc80740_0291_11e9_b5f1_bec061a457d2row1_col1\" class=\"data row1 col1\" >$3.86</td> \n",
       "        <td id=\"T_4fc80740_0291_11e9_b5f1_bec061a457d2row1_col2\" class=\"data row1 col2\" >$15.45</td> \n",
       "    </tr>    <tr> \n",
       "        <th id=\"T_4fc80740_0291_11e9_b5f1_bec061a457d2level0_row2\" class=\"row_heading level0 row2\" >Chamjask73</th> \n",
       "        <td id=\"T_4fc80740_0291_11e9_b5f1_bec061a457d2row2_col0\" class=\"data row2 col0\" >3</td> \n",
       "        <td id=\"T_4fc80740_0291_11e9_b5f1_bec061a457d2row2_col1\" class=\"data row2 col1\" >$4.61</td> \n",
       "        <td id=\"T_4fc80740_0291_11e9_b5f1_bec061a457d2row2_col2\" class=\"data row2 col2\" >$13.83</td> \n",
       "    </tr>    <tr> \n",
       "        <th id=\"T_4fc80740_0291_11e9_b5f1_bec061a457d2level0_row3\" class=\"row_heading level0 row3\" >Iral74</th> \n",
       "        <td id=\"T_4fc80740_0291_11e9_b5f1_bec061a457d2row3_col0\" class=\"data row3 col0\" >4</td> \n",
       "        <td id=\"T_4fc80740_0291_11e9_b5f1_bec061a457d2row3_col1\" class=\"data row3 col1\" >$3.40</td> \n",
       "        <td id=\"T_4fc80740_0291_11e9_b5f1_bec061a457d2row3_col2\" class=\"data row3 col2\" >$13.62</td> \n",
       "    </tr>    <tr> \n",
       "        <th id=\"T_4fc80740_0291_11e9_b5f1_bec061a457d2level0_row4\" class=\"row_heading level0 row4\" >Iskadarya95</th> \n",
       "        <td id=\"T_4fc80740_0291_11e9_b5f1_bec061a457d2row4_col0\" class=\"data row4 col0\" >3</td> \n",
       "        <td id=\"T_4fc80740_0291_11e9_b5f1_bec061a457d2row4_col1\" class=\"data row4 col1\" >$4.37</td> \n",
       "        <td id=\"T_4fc80740_0291_11e9_b5f1_bec061a457d2row4_col2\" class=\"data row4 col2\" >$13.10</td> \n",
       "    </tr></tbody> \n",
       "</table> "
      ],
      "text/plain": [
       "<pandas.io.formats.style.Styler at 0x171dfbc64a8>"
      ]
     },
     "execution_count": 8,
     "metadata": {},
     "output_type": "execute_result"
    }
   ],
   "source": [
    "# Find out by SN who has spent money\n",
    "\n",
    "money_spent = purchase_df.groupby(\"SN\")\n",
    "\n",
    "# Count how many times ^above has spent money\n",
    "money_spent_count = money_spent[\"Purchase ID\"].count()\n",
    "\n",
    "# Average purchase by name calculations \n",
    "avgpurchase_byname = money_spent[\"Price\"].mean()\n",
    "\n",
    "# Purchase total by name calculations\n",
    "totalpurchase_byname = money_spent[\"Price\"].sum()\n",
    "\n",
    "# Create data frame with of calculated values\n",
    "top_spender_df = pd.DataFrame({\"Purchase Count\": money_spent_count,\n",
    "                             \"Average Purchase Price\": avgpurchase_byname,\n",
    "                             \"Total Purchase Value\":totalpurchase_byname})\n",
    "\n",
    "# Sort values in decending\n",
    "formatted_spenders = top_spender_df.sort_values([\"Total Purchase Value\"], ascending=False).head()\n",
    "\n",
    "formatted_spenders.index.name = None\n",
    "\n",
    "# Format with currency style\n",
    "formatted_spenders.style.format({\"Average Purchase Total\":\"${:,.2f}\",\n",
    "                                 \"Average Purchase Price\":\"${:,.2f}\", \n",
    "                                 \"Total Purchase Value\":\"${:,.2f}\"})\n"
   ]
  },
  {
   "cell_type": "markdown",
   "metadata": {},
   "source": [
    "## Most Popular Items"
   ]
  },
  {
   "cell_type": "markdown",
   "metadata": {},
   "source": [
    "* Retrieve the Item ID, Item Name, and Item Price columns\n",
    "\n",
    "\n",
    "* Group by Item ID and Item Name. Perform calculations to obtain purchase count, item price, and total purchase value\n",
    "\n",
    "\n",
    "* Create a summary data frame to hold the results\n",
    "\n",
    "\n",
    "* Sort the purchase count column in descending order\n",
    "\n",
    "\n",
    "* Optional: give the displayed data cleaner formatting\n",
    "\n",
    "\n",
    "* Display a preview of the summary data frame\n",
    "\n"
   ]
  },
  {
   "cell_type": "code",
   "execution_count": 39,
   "metadata": {},
   "outputs": [
    {
     "data": {
      "text/plain": [
       "Item ID  Item Name         \n",
       "0        Splinter              4\n",
       "1        Crucifer              3\n",
       "2        Verdict               6\n",
       "3        Phantomlight          6\n",
       "4        Bloodlord's Fetish    5\n",
       "Name: Price, dtype: int64"
      ]
     },
     "execution_count": 39,
     "metadata": {},
     "output_type": "execute_result"
    }
   ],
   "source": [
    "# Create a new list to hold the values for \"Item ID\", \"Item Name\", \"Price\"\n",
    "pop_items = purchase_df[[\"Item ID\", \"Item Name\", \"Price\"]]\n",
    "\n",
    "grouped_items = pop_items.groupby([\"Item ID\", \"Item Name\"])\n",
    "\n",
    "grouped_items.head()\n",
    "\n",
    "pop_purchase_count = grouped_items[\"Price\"].count()\n",
    "\n",
    "pop_purchase_count.head()\n",
    "\n",
    "\n",
    "\n"
   ]
  },
  {
   "cell_type": "code",
   "execution_count": 47,
   "metadata": {},
   "outputs": [
    {
     "data": {
      "text/plain": [
       "Item ID  Item Name                                   \n",
       "0        Splinter                                         5.12\n",
       "1        Crucifer                                         9.78\n",
       "2        Verdict                                         14.88\n",
       "3        Phantomlight                                    14.94\n",
       "4        Bloodlord's Fetish                               8.50\n",
       "5        Putrid Fan                                      16.32\n",
       "6        Rusty Skull                                      7.40\n",
       "7        Thorn, Satchel of Dark Souls                     9.31\n",
       "8        Purgatory, Gem of Regret                        11.79\n",
       "9        Thorn, Conqueror of the Corrupted               10.92\n",
       "10       Sleepwalker                                      7.16\n",
       "11       Brimstone                                       18.25\n",
       "12       Dawne                                            6.12\n",
       "13       Serenity                                         5.64\n",
       "14       Possessed Core                                   5.22\n",
       "15       Soul Infused Crystal                            14.80\n",
       "16       Restored Bauble                                 14.20\n",
       "17       Lazarus, Terror of the Earth                     6.80\n",
       "18       Torchlight, Bond of Storms                       9.30\n",
       "19       Pursuit, Cudgel of Necromancy                    8.16\n",
       "20       Netherbane                                      16.35\n",
       "21       Souleater                                        5.50\n",
       "22       Amnesia                                         13.08\n",
       "23       Crucifer                                         1.99\n",
       "24       Warped Fetish                                   19.05\n",
       "25       Hero Cane                                       26.10\n",
       "26       Unholy Wand                                      2.24\n",
       "27       Riddle, Tribute of Ended Dreams                  3.30\n",
       "28       Flux, Destroyer of Due Diligence                 2.12\n",
       "29       Chaos, Ender of the End                          9.90\n",
       "                                                         ...  \n",
       "154      Feral Katana                                    17.60\n",
       "155      War-Forged Gold Deflector                        5.05\n",
       "156      Soul-Forged Steel Shortsword                     8.85\n",
       "157      Spada, Etcher of Hatred                         19.20\n",
       "158      Darkheart, Butcher of the Champion               4.90\n",
       "159      Oathbreaker, Spellblade of Trials               21.56\n",
       "160      Azurewrath                                      26.40\n",
       "161      Devine                                           8.80\n",
       "162      Abyssal Shard                                   13.35\n",
       "163      Thunderfury Scimitar                            17.25\n",
       "164      Exiled Doomblade                                11.41\n",
       "165      Bone Crushing Silver Skewer                     19.44\n",
       "166      Thirsty Iron Reaver                              9.21\n",
       "167      Malice, Legacy of the Queen                     14.44\n",
       "168      Sun Strike, Jaws of Twisted Visions              2.96\n",
       "169      Interrogator, Blood Blade of the Queen           8.72\n",
       "170      Shadowsteel                                     15.88\n",
       "171      Scalpel                                          5.37\n",
       "172      Blade of the Grave                              12.56\n",
       "173      Stormfury Longsword                              9.86\n",
       "174      Primitive Blade                                 13.88\n",
       "175      Woeful Adamantite Claymore                      13.44\n",
       "176      Relentless Iron Skewer                           5.68\n",
       "177      Winterthorn, Defender of Shifting Worlds         4.16\n",
       "178      Oathbreaker, Last Hope of the Breaking Storm    50.76\n",
       "179      Wolf, Promise of the Moonwalker                 26.88\n",
       "180      Stormcaller                                      3.36\n",
       "181      Reaper's Toll                                    8.30\n",
       "182      Toothpick                                       12.09\n",
       "183      Dragon's Greatsword                              3.27\n",
       "Name: Price, Length: 183, dtype: float64"
      ]
     },
     "execution_count": 47,
     "metadata": {},
     "output_type": "execute_result"
    }
   ],
   "source": [
    "#the below is not calculating correctly for all of the items that have been counted above\n",
    "pop_purch_value = grouped_items[\"Price\"].sum()\n",
    "\n",
    "pop_purch_value\n",
    "\n",
    "#providing a value of 2379.77 - FIXED the error ... was taking the overall data ingest instead of the broken down one. ugh"
   ]
  },
  {
   "cell_type": "code",
   "execution_count": 49,
   "metadata": {},
   "outputs": [
    {
     "data": {
      "text/html": [
       "<style  type=\"text/css\" >\n",
       "</style>  \n",
       "<table id=\"T_367e33d2_0297_11e9_9228_bec061a457d2\" > \n",
       "<thead>    <tr> \n",
       "        <th class=\"blank\" ></th> \n",
       "        <th class=\"blank level0\" ></th> \n",
       "        <th class=\"col_heading level0 col0\" >Purchase Count</th> \n",
       "        <th class=\"col_heading level0 col1\" >Item Price</th> \n",
       "        <th class=\"col_heading level0 col2\" >Total Purchase Value</th> \n",
       "    </tr>    <tr> \n",
       "        <th class=\"index_name level0\" >Item ID</th> \n",
       "        <th class=\"index_name level1\" >Item Name</th> \n",
       "        <th class=\"blank\" ></th> \n",
       "        <th class=\"blank\" ></th> \n",
       "        <th class=\"blank\" ></th> \n",
       "    </tr></thead> \n",
       "<tbody>    <tr> \n",
       "        <th id=\"T_367e33d2_0297_11e9_9228_bec061a457d2level0_row0\" class=\"row_heading level0 row0\" >178</th> \n",
       "        <th id=\"T_367e33d2_0297_11e9_9228_bec061a457d2level1_row0\" class=\"row_heading level1 row0\" >Oathbreaker, Last Hope of the Breaking Storm</th> \n",
       "        <td id=\"T_367e33d2_0297_11e9_9228_bec061a457d2row0_col0\" class=\"data row0 col0\" >12</td> \n",
       "        <td id=\"T_367e33d2_0297_11e9_9228_bec061a457d2row0_col1\" class=\"data row0 col1\" >$4.23</td> \n",
       "        <td id=\"T_367e33d2_0297_11e9_9228_bec061a457d2row0_col2\" class=\"data row0 col2\" >$50.76</td> \n",
       "    </tr>    <tr> \n",
       "        <th id=\"T_367e33d2_0297_11e9_9228_bec061a457d2level0_row1\" class=\"row_heading level0 row1\" >145</th> \n",
       "        <th id=\"T_367e33d2_0297_11e9_9228_bec061a457d2level1_row1\" class=\"row_heading level1 row1\" >Fiery Glass Crusader</th> \n",
       "        <td id=\"T_367e33d2_0297_11e9_9228_bec061a457d2row1_col0\" class=\"data row1 col0\" >9</td> \n",
       "        <td id=\"T_367e33d2_0297_11e9_9228_bec061a457d2row1_col1\" class=\"data row1 col1\" >$4.58</td> \n",
       "        <td id=\"T_367e33d2_0297_11e9_9228_bec061a457d2row1_col2\" class=\"data row1 col2\" >$41.22</td> \n",
       "    </tr>    <tr> \n",
       "        <th id=\"T_367e33d2_0297_11e9_9228_bec061a457d2level0_row2\" class=\"row_heading level0 row2\" >108</th> \n",
       "        <th id=\"T_367e33d2_0297_11e9_9228_bec061a457d2level1_row2\" class=\"row_heading level1 row2\" >Extraction, Quickblade Of Trembling Hands</th> \n",
       "        <td id=\"T_367e33d2_0297_11e9_9228_bec061a457d2row2_col0\" class=\"data row2 col0\" >9</td> \n",
       "        <td id=\"T_367e33d2_0297_11e9_9228_bec061a457d2row2_col1\" class=\"data row2 col1\" >$3.53</td> \n",
       "        <td id=\"T_367e33d2_0297_11e9_9228_bec061a457d2row2_col2\" class=\"data row2 col2\" >$31.77</td> \n",
       "    </tr>    <tr> \n",
       "        <th id=\"T_367e33d2_0297_11e9_9228_bec061a457d2level0_row3\" class=\"row_heading level0 row3\" >82</th> \n",
       "        <th id=\"T_367e33d2_0297_11e9_9228_bec061a457d2level1_row3\" class=\"row_heading level1 row3\" >Nirvana</th> \n",
       "        <td id=\"T_367e33d2_0297_11e9_9228_bec061a457d2row3_col0\" class=\"data row3 col0\" >9</td> \n",
       "        <td id=\"T_367e33d2_0297_11e9_9228_bec061a457d2row3_col1\" class=\"data row3 col1\" >$4.90</td> \n",
       "        <td id=\"T_367e33d2_0297_11e9_9228_bec061a457d2row3_col2\" class=\"data row3 col2\" >$44.10</td> \n",
       "    </tr>    <tr> \n",
       "        <th id=\"T_367e33d2_0297_11e9_9228_bec061a457d2level0_row4\" class=\"row_heading level0 row4\" >19</th> \n",
       "        <th id=\"T_367e33d2_0297_11e9_9228_bec061a457d2level1_row4\" class=\"row_heading level1 row4\" >Pursuit, Cudgel of Necromancy</th> \n",
       "        <td id=\"T_367e33d2_0297_11e9_9228_bec061a457d2row4_col0\" class=\"data row4 col0\" >8</td> \n",
       "        <td id=\"T_367e33d2_0297_11e9_9228_bec061a457d2row4_col1\" class=\"data row4 col1\" >$1.02</td> \n",
       "        <td id=\"T_367e33d2_0297_11e9_9228_bec061a457d2row4_col2\" class=\"data row4 col2\" >$8.16</td> \n",
       "    </tr></tbody> \n",
       "</table> "
      ],
      "text/plain": [
       "<pandas.io.formats.style.Styler at 0x171dfbf6470>"
      ]
     },
     "execution_count": 49,
     "metadata": {},
     "output_type": "execute_result"
    }
   ],
   "source": [
    "pop_item_price = pop_purch_value / pop_purchase_count\n",
    "\n",
    "\n",
    "#create most popular items data frame\n",
    "\n",
    "pop_items_df = pd.DataFrame({\"Purchase Count\": pop_purchase_count,\n",
    "                             \"Item Price\": pop_item_price,\n",
    "                             \"Total Purchase Value\": pop_purch_value\n",
    "                            })\n",
    "\n",
    "pop_summary_formatted = pop_items_df.sort_values([\"Purchase Count\"], ascending=False).head()\n",
    "\n",
    "#pop_summary_formatted.head()\n",
    "\n",
    "# Format the currency\n",
    "pop_summary_formatted.style.format({\"Item Price\":\"${:,.2f}\", \"Total Purchase Value\":\"${:,.2f}\"})"
   ]
  },
  {
   "cell_type": "markdown",
   "metadata": {},
   "source": [
    "## Most Profitable Items"
   ]
  },
  {
   "cell_type": "markdown",
   "metadata": {},
   "source": [
    "* Sort the above table by total purchase value in descending order\n",
    "\n",
    "\n",
    "* Optional: give the displayed data cleaner formatting\n",
    "\n",
    "\n",
    "* Display a preview of the data frame\n",
    "\n"
   ]
  },
  {
   "cell_type": "code",
   "execution_count": 50,
   "metadata": {
    "scrolled": true
   },
   "outputs": [
    {
     "data": {
      "text/html": [
       "<style  type=\"text/css\" >\n",
       "</style>  \n",
       "<table id=\"T_3a200c36_0297_11e9_b694_bec061a457d2\" > \n",
       "<thead>    <tr> \n",
       "        <th class=\"blank\" ></th> \n",
       "        <th class=\"blank level0\" ></th> \n",
       "        <th class=\"col_heading level0 col0\" >Purchase Count</th> \n",
       "        <th class=\"col_heading level0 col1\" >Item Price</th> \n",
       "        <th class=\"col_heading level0 col2\" >Total Purchase Value</th> \n",
       "    </tr>    <tr> \n",
       "        <th class=\"index_name level0\" >Item ID</th> \n",
       "        <th class=\"index_name level1\" >Item Name</th> \n",
       "        <th class=\"blank\" ></th> \n",
       "        <th class=\"blank\" ></th> \n",
       "        <th class=\"blank\" ></th> \n",
       "    </tr></thead> \n",
       "<tbody>    <tr> \n",
       "        <th id=\"T_3a200c36_0297_11e9_b694_bec061a457d2level0_row0\" class=\"row_heading level0 row0\" >178</th> \n",
       "        <th id=\"T_3a200c36_0297_11e9_b694_bec061a457d2level1_row0\" class=\"row_heading level1 row0\" >Oathbreaker, Last Hope of the Breaking Storm</th> \n",
       "        <td id=\"T_3a200c36_0297_11e9_b694_bec061a457d2row0_col0\" class=\"data row0 col0\" >12</td> \n",
       "        <td id=\"T_3a200c36_0297_11e9_b694_bec061a457d2row0_col1\" class=\"data row0 col1\" >$4.23</td> \n",
       "        <td id=\"T_3a200c36_0297_11e9_b694_bec061a457d2row0_col2\" class=\"data row0 col2\" >$50.76</td> \n",
       "    </tr>    <tr> \n",
       "        <th id=\"T_3a200c36_0297_11e9_b694_bec061a457d2level0_row1\" class=\"row_heading level0 row1\" >82</th> \n",
       "        <th id=\"T_3a200c36_0297_11e9_b694_bec061a457d2level1_row1\" class=\"row_heading level1 row1\" >Nirvana</th> \n",
       "        <td id=\"T_3a200c36_0297_11e9_b694_bec061a457d2row1_col0\" class=\"data row1 col0\" >9</td> \n",
       "        <td id=\"T_3a200c36_0297_11e9_b694_bec061a457d2row1_col1\" class=\"data row1 col1\" >$4.90</td> \n",
       "        <td id=\"T_3a200c36_0297_11e9_b694_bec061a457d2row1_col2\" class=\"data row1 col2\" >$44.10</td> \n",
       "    </tr>    <tr> \n",
       "        <th id=\"T_3a200c36_0297_11e9_b694_bec061a457d2level0_row2\" class=\"row_heading level0 row2\" >145</th> \n",
       "        <th id=\"T_3a200c36_0297_11e9_b694_bec061a457d2level1_row2\" class=\"row_heading level1 row2\" >Fiery Glass Crusader</th> \n",
       "        <td id=\"T_3a200c36_0297_11e9_b694_bec061a457d2row2_col0\" class=\"data row2 col0\" >9</td> \n",
       "        <td id=\"T_3a200c36_0297_11e9_b694_bec061a457d2row2_col1\" class=\"data row2 col1\" >$4.58</td> \n",
       "        <td id=\"T_3a200c36_0297_11e9_b694_bec061a457d2row2_col2\" class=\"data row2 col2\" >$41.22</td> \n",
       "    </tr>    <tr> \n",
       "        <th id=\"T_3a200c36_0297_11e9_b694_bec061a457d2level0_row3\" class=\"row_heading level0 row3\" >92</th> \n",
       "        <th id=\"T_3a200c36_0297_11e9_b694_bec061a457d2level1_row3\" class=\"row_heading level1 row3\" >Final Critic</th> \n",
       "        <td id=\"T_3a200c36_0297_11e9_b694_bec061a457d2row3_col0\" class=\"data row3 col0\" >8</td> \n",
       "        <td id=\"T_3a200c36_0297_11e9_b694_bec061a457d2row3_col1\" class=\"data row3 col1\" >$4.88</td> \n",
       "        <td id=\"T_3a200c36_0297_11e9_b694_bec061a457d2row3_col2\" class=\"data row3 col2\" >$39.04</td> \n",
       "    </tr>    <tr> \n",
       "        <th id=\"T_3a200c36_0297_11e9_b694_bec061a457d2level0_row4\" class=\"row_heading level0 row4\" >103</th> \n",
       "        <th id=\"T_3a200c36_0297_11e9_b694_bec061a457d2level1_row4\" class=\"row_heading level1 row4\" >Singed Scalpel</th> \n",
       "        <td id=\"T_3a200c36_0297_11e9_b694_bec061a457d2row4_col0\" class=\"data row4 col0\" >8</td> \n",
       "        <td id=\"T_3a200c36_0297_11e9_b694_bec061a457d2row4_col1\" class=\"data row4 col1\" >$4.35</td> \n",
       "        <td id=\"T_3a200c36_0297_11e9_b694_bec061a457d2row4_col2\" class=\"data row4 col2\" >$34.80</td> \n",
       "    </tr></tbody> \n",
       "</table> "
      ],
      "text/plain": [
       "<pandas.io.formats.style.Styler at 0x171dfbf6a90>"
      ]
     },
     "execution_count": 50,
     "metadata": {},
     "output_type": "execute_result"
    }
   ],
   "source": [
    "pop_summary_formatted = pop_items_df.sort_values([\"Total Purchase Value\"], ascending=False).head()\n",
    "\n",
    "#pop_summary_formatted.head()\n",
    "\n",
    "# Format the currency\n",
    "pop_summary_formatted.style.format({\"Item Price\":\"${:,.2f}\", \"Total Purchase Value\":\"${:,.2f}\"})"
   ]
  },
  {
   "cell_type": "code",
   "execution_count": null,
   "metadata": {},
   "outputs": [],
   "source": []
  }
 ],
 "metadata": {
  "anaconda-cloud": {},
  "kernel_info": {
   "name": "python3"
  },
  "kernelspec": {
   "display_name": "Python 3",
   "language": "python",
   "name": "python3"
  },
  "language_info": {
   "codemirror_mode": {
    "name": "ipython",
    "version": 3
   },
   "file_extension": ".py",
   "mimetype": "text/x-python",
   "name": "python",
   "nbconvert_exporter": "python",
   "pygments_lexer": "ipython3",
   "version": "3.7.0"
  },
  "nteract": {
   "version": "0.2.0"
  }
 },
 "nbformat": 4,
 "nbformat_minor": 2
}
